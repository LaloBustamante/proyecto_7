{
 "cells": [
  {
   "cell_type": "markdown",
   "metadata": {},
   "source": [
    "<div class=\"alert alert-block alert-danger\">\n",
    "<b>Comentario del revisor</b> <a class=\"tocSkip\"></a>\n",
    "    \n",
    "# Comentario General\n",
    "\n",
    "Hola, Eduardo, te felicito por el desarrollo del proyecto hasta el momento. Ahora bien, he dejado algunos comentarios para que los puedas tener en cuenta para la siguiente entrega. \n",
    "</div>"
   ]
  },
  {
   "cell_type": "markdown",
   "metadata": {},
   "source": [
    "<div class=\"alert alert-block alert-danger\">\n",
    "<b>Comentario del revisor</b> <a class=\"tocSkip\"></a>\n",
    "    \n",
    "No olvides generar una sección de introducción para el proyecto.  </div>"
   ]
  },
  {
   "cell_type": "markdown",
   "metadata": {},
   "source": [
    "<div class=\"alert alert-block alert-info\">\n",
    "<b>Respuesta del estudiante</b> <a class=\"tocSkip\"></a>\n",
    "Hola David, comencé a trabajar sin Jupyther Notebook de modo que realizo el código en Visual Studio Code y luego hago copy-paste de mi código en el jupyther, únicamente para realizar la entrega de modo que algunas veces quizas le falte un poco de formato en las celdas de markdowns en viñetas, títulos o subtitulos etc. A lo anterior debo agregar que no vi que las instrucciones del proyecto pidan realizar este paso que mencionas. \n",
    "Claro está con el entendido de que estamos \"simulando\" un ambiente real de trabajo y estuviese presentando una serie de informes y descubrimientos a una empresa, evidentemente se debe realizar una sección de introducción al proyecto para dar contexto sobre lo que estamos trabajando, pero de cualquier manera me gustaría sugerir que seria saludable poner esa instrucción entre los pasos que se deben seguir para la realización del proyecto.    \n",
    "</div>"
   ]
  },
  {
   "cell_type": "markdown",
   "metadata": {},
   "source": [
    "# Descripción del proyecto\n",
    "\n",
    "Estás trabajando como analista para Zuber, una nueva empresa de viajes compartidos que se está lanzando en Chicago. Tu tarea es encontrar patrones en la información disponible. Quieres comprender las preferencias de los pasajeros y el impacto de los factores externos en los viajes.\n",
    "\n",
    "Al trabajar con una base de datos, analizarás los datos de los competidores y probarás una hipótesis sobre el impacto del clima en la frecuencia de los viajes.\n",
    "\n",
    "Instrucciones para completar el proyecto\n",
    "Paso 1. Escribe un código para analizar los datos sobre el clima en Chicago en noviembre de 2017 desde el sitio web:\n",
    "\n",
    "https://practicum-content.s3.us-west-1.amazonaws.com/data-analyst-eng/moved_chicago_weather_2017.html\n",
    "\n",
    "Paso 2. Análisis exploratorio de datos\n",
    "\n",
    "Encuentra el número de viajes en taxi para cada empresa de taxis del 15 al 16 de noviembre de 2017. Nombra el campo resultante trips_amount y muéstralo junto con el campo company_name. Ordena los resultados por el campo trips_amount en orden descendente.\n",
    "\n",
    "Encuentra la cantidad de viajes para cada empresa de taxis cuyo nombre contenga las palabras \"Yellow\" o \"Blue\" del 1 al 7 de noviembre de 2017. Nombra la variable resultante trips_amount. Agrupa los resultados por el campo company_name.\n",
    "\n",
    "En noviembre de 2017 las empresas de taxis más populares fueron Flash Cab y Taxi Affiliation Services. Encuentra el número de viajes de estas dos empresas y asigna a la variable resultante el nombre trips_amount. Junta los viajes de todas las demás empresas en el grupo \"Other\". Agrupa los datos por nombres de empresas de taxis. Nombra el campo con nombres de empresas de taxis company. Ordena el resultado en orden descendente por trips_amount.\n",
    "\n",
    "Paso 3. Prueba la hipótesis de que la duración de los viajes desde el Loop hasta el Aeropuerto Internacional O'Hare cambia los sábados lluviosos.\n",
    "\n",
    "Recupera los identificadores de los barrios de O'Hare y Loop de la tabla neighborhoods.\n",
    "\n",
    "Para cada hora recupera los registros de condiciones meteorológicas de la tabla weather_records. Usando el operador CASE, divide todas las horas en dos grupos: \"Bad\" si el campo description contiene las palabras \"rain\" o \"storm\" y \"Good\" para los demás. Nombra el campo resultante weather_conditions. La tabla final debe incluir dos campos: fecha y hora (ts) y weather_conditions.\n",
    "\n",
    "Recupera de la tabla trips todos los viajes que comenzaron en el Loop (neighborhood_id: 50) y finalizaron en O'Hare (neighborhood_id: 63) un sábado. Obtén las condiciones climáticas para cada viaje. Utiliza el método que aplicaste en la tarea anterior. Recupera también la duración de cada viaje.\n",
    "Ignora los viajes para los que no hay datos disponibles sobre las condiciones climáticas.\n",
    "\n",
    "Paso 4. Análisis exploratorio de datos (Python)\n",
    "\n",
    "Además de los datos que recuperaste en las tareas anteriores te han dado un segundo archivo. Ahora tienes estos dos CSV:\n",
    "\n",
    "project_sql_result_01.csv. Contiene los siguientes datos:\n",
    "\n",
    "company_name: nombre de la empresa de taxis\n",
    "trips_amount: el número de viajes de cada compañía de taxis el 15 y 16 de noviembre de 2017.\n",
    "project_sql_result_04.csv. Contiene los siguientes datos:\n",
    "\n",
    "dropoff_location_name: barrios de Chicago donde finalizaron los viajes\n",
    "average_trips: el promedio de viajes que terminaron en cada barrio en noviembre de 2017.\n",
    "Para estos dos datasets ahora necesitas:\n",
    "\n",
    "importar los archivos\n",
    "estudiar los datos que contienen\n",
    "asegurarte de que los tipos de datos sean correctos\n",
    "identificar los 10 principales barrios en términos de finalización\n",
    "hacer gráficos: empresas de taxis y número de viajes, los 10 barrios principales por número de finalizaciones\n",
    "sacar conclusiones basadas en cada gráfico y explicar los resultados\n",
    "\n",
    "Paso 5. Prueba de hipótesis (Python)\n",
    "\n",
    "project_sql_result_07.csv: el resultado de la última consulta. Contiene datos sobre viajes desde el Loop hasta el Aeropuerto Internacional O'Hare. Recuerda, estos son los valores de campo de la tabla:\n",
    "\n",
    "start_ts: fecha y hora de recogida\n",
    "weather_conditions: condiciones climáticas en el momento en el que comenzó el viaje\n",
    "duration_seconds: duración del viaje en segundos\n",
    "Prueba la hipótesis:\n",
    "\"La duración promedio de los viajes desde el Loop hasta el Aeropuerto Internacional O'Hare cambia los sábados lluviosos\".\n",
    "\n",
    "Establece el valor del nivel de significación (alfa) por tu cuenta.\n",
    "\n",
    "Explica:\n",
    "\n",
    "cómo planteaste las hipótesis nula y alternativa\n",
    "qué criterio usaste para probar las hipótesis y por qué"
   ]
  },
  {
   "cell_type": "code",
   "execution_count": 191,
   "metadata": {},
   "outputs": [],
   "source": [
    "#Importar bibliotecas\n",
    "import pandas as pd\n",
    "import matplotlib.pyplot as plt\n",
    "import scipy.stats as stats\n",
    "import tkinter as tk\n",
    "plt.switch_backend('TkAgg')"
   ]
  },
  {
   "cell_type": "code",
   "execution_count": 192,
   "metadata": {},
   "outputs": [],
   "source": [
    "#Importar archivos CSV \n",
    "# Importar los datasets\n",
    "df_companies = pd.read_csv('datasets/project_sql_result_01.csv')\n",
    "df_neighborhoods = pd.read_csv('datasets/project_sql_result_04.csv')\n",
    "df_weather = pd.read_csv('datasets/project_sql_result_07.csv')"
   ]
  },
  {
   "cell_type": "code",
   "execution_count": 193,
   "metadata": {},
   "outputs": [
    {
     "name": "stdout",
     "output_type": "stream",
     "text": [
      "                      company_name  trips_amount\n",
      "0                        Flash Cab         19558\n",
      "1        Taxi Affiliation Services         11422\n",
      "2                 Medallion Leasin         10367\n",
      "3                       Yellow Cab          9888\n",
      "4  Taxi Affiliation Service Yellow          9299\n",
      "  dropoff_location_name  average_trips\n",
      "0                  Loop   10727.466667\n",
      "1           River North    9523.666667\n",
      "2         Streeterville    6664.666667\n",
      "3             West Loop    5163.666667\n",
      "4                O'Hare    2546.900000\n",
      "              start_ts weather_conditions  duration_seconds\n",
      "0  2017-11-25 16:00:00               Good            2410.0\n",
      "1  2017-11-25 14:00:00               Good            1920.0\n",
      "2  2017-11-25 12:00:00               Good            1543.0\n",
      "3  2017-11-04 10:00:00               Good            2512.0\n",
      "4  2017-11-11 07:00:00               Good            1440.0\n"
     ]
    }
   ],
   "source": [
    "# Mostrar las primeras filas de los datasets\n",
    "print(df_companies.head())\n",
    "print(df_neighborhoods.head())\n",
    "print(df_weather.head())"
   ]
  },
  {
   "cell_type": "code",
   "execution_count": 194,
   "metadata": {},
   "outputs": [
    {
     "name": "stdout",
     "output_type": "stream",
     "text": [
      "<class 'pandas.core.frame.DataFrame'>\n",
      "RangeIndex: 64 entries, 0 to 63\n",
      "Data columns (total 2 columns):\n",
      " #   Column        Non-Null Count  Dtype \n",
      "---  ------        --------------  ----- \n",
      " 0   company_name  64 non-null     object\n",
      " 1   trips_amount  64 non-null     int64 \n",
      "dtypes: int64(1), object(1)\n",
      "memory usage: 1.1+ KB\n",
      "None\n",
      "<class 'pandas.core.frame.DataFrame'>\n",
      "RangeIndex: 94 entries, 0 to 93\n",
      "Data columns (total 2 columns):\n",
      " #   Column                 Non-Null Count  Dtype  \n",
      "---  ------                 --------------  -----  \n",
      " 0   dropoff_location_name  94 non-null     object \n",
      " 1   average_trips          94 non-null     float64\n",
      "dtypes: float64(1), object(1)\n",
      "memory usage: 1.6+ KB\n",
      "None\n",
      "<class 'pandas.core.frame.DataFrame'>\n",
      "RangeIndex: 1068 entries, 0 to 1067\n",
      "Data columns (total 3 columns):\n",
      " #   Column              Non-Null Count  Dtype  \n",
      "---  ------              --------------  -----  \n",
      " 0   start_ts            1068 non-null   object \n",
      " 1   weather_conditions  1068 non-null   object \n",
      " 2   duration_seconds    1068 non-null   float64\n",
      "dtypes: float64(1), object(2)\n",
      "memory usage: 25.2+ KB\n",
      "None\n"
     ]
    }
   ],
   "source": [
    "#Estudiar los Datos\n",
    "# Información de los datasets\n",
    "print(df_companies.info())\n",
    "print(df_neighborhoods.info())\n",
    "print(df_weather.info())"
   ]
  },
  {
   "cell_type": "code",
   "execution_count": 195,
   "metadata": {},
   "outputs": [
    {
     "name": "stdout",
     "output_type": "stream",
     "text": [
      "       trips_amount\n",
      "count     64.000000\n",
      "mean    2145.484375\n",
      "std     3812.310186\n",
      "min        2.000000\n",
      "25%       20.750000\n",
      "50%      178.500000\n",
      "75%     2106.500000\n",
      "max    19558.000000\n",
      "       average_trips\n",
      "count      94.000000\n",
      "mean      599.953728\n",
      "std      1714.591098\n",
      "min         1.800000\n",
      "25%        14.266667\n",
      "50%        52.016667\n",
      "75%       298.858333\n",
      "max     10727.466667\n",
      "       duration_seconds\n",
      "count       1068.000000\n",
      "mean        2071.731273\n",
      "std          769.461125\n",
      "min            0.000000\n",
      "25%         1438.250000\n",
      "50%         1980.000000\n",
      "75%         2580.000000\n",
      "max         7440.000000\n"
     ]
    }
   ],
   "source": [
    "# Descripción estadística de los datasets\n",
    "print(df_companies.describe())\n",
    "print(df_neighborhoods.describe())\n",
    "print(df_weather.describe())"
   ]
  },
  {
   "cell_type": "markdown",
   "metadata": {},
   "source": [
    "<div class=\"alert alert-block alert-danger\">\n",
    "<b>Comentario del revisor</b> <a class=\"tocSkip\"></a>\n",
    "    \n",
    "Buen trabajo usando estos componentes de exploración inicial de cada una de las tablas, aun así, adicional a lo anterior, sería interesante que puedas desarrollar observaciones sobre lo encontrado.  </div>"
   ]
  },
  {
   "cell_type": "markdown",
   "metadata": {},
   "source": [
    "<div class=\"alert alert-block alert-info\">\n",
    "<b>Respuesta del estudiante</b> <a class=\"tocSkip\"></a>\n",
    "Se realizó la corrección señalada en el comentario, desarrollo de observaciones sobre la exploración inicial.    \n",
    "</div>"
   ]
  },
  {
   "cell_type": "markdown",
   "metadata": {},
   "source": [
    "# Observaciones Generales:\n",
    "\n",
    "Variabilidad y Desigualdad:\n",
    "Hay una clara desigualdad en las distribuciones tanto de los viajes por empresa como de los viajes finalizados por barrio. Esto puede reflejar diferencias en el tamaño, la cobertura y la popularidad de las empresas de taxis, así como en la demanda en diferentes áreas de la ciudad.\n",
    "\n",
    "Calidad de los Datos:\n",
    "Todos los datasets parecen estar completos, sin valores nulos, lo cual es positivo para el análisis posterior.\n",
    "\n",
    "Relevancia de las Condiciones Meteorológicas:\n",
    "El análisis de las condiciones meteorológicas en relación con la duración de los viajes podría ser interesante, aunque será necesario asegurarse de que el dataset contenga suficientes variaciones en las condiciones (\"Good\" vs \"Bad\") para poder realizar análisis significativos."
   ]
  },
  {
   "cell_type": "code",
   "execution_count": 196,
   "metadata": {},
   "outputs": [],
   "source": [
    "#Asegurarse de que los Tipos de Datos sean Correctos\n",
    "# Asegurarse de que los tipos de datos sean correctos\n",
    "df_companies['trips_amount'] = df_companies['trips_amount'].astype(int)\n",
    "df_neighborhoods['average_trips'] = df_neighborhoods['average_trips'].astype(float)\n",
    "# Convertir 'start_ts' a datetime\n",
    "df_weather['start_ts'] = pd.to_datetime(df_weather['start_ts'])"
   ]
  },
  {
   "cell_type": "code",
   "execution_count": 197,
   "metadata": {},
   "outputs": [
    {
     "name": "stdout",
     "output_type": "stream",
     "text": [
      "  dropoff_location_name  average_trips\n",
      "0                  Loop   10727.466667\n",
      "1           River North    9523.666667\n",
      "2         Streeterville    6664.666667\n",
      "3             West Loop    5163.666667\n",
      "4                O'Hare    2546.900000\n",
      "5             Lake View    2420.966667\n",
      "6            Grant Park    2068.533333\n",
      "7         Museum Campus    1510.000000\n",
      "8            Gold Coast    1364.233333\n",
      "9    Sheffield & DePaul    1259.766667\n"
     ]
    }
   ],
   "source": [
    "#Identificar los 10 Principales Barrios en Términos de Finalización del Recorrido\n",
    "# Identificar los 10 principales barrios\n",
    "top_10_neighborhoods = df_neighborhoods.nlargest(10, 'average_trips')\n",
    "print(top_10_neighborhoods)"
   ]
  },
  {
   "cell_type": "code",
   "execution_count": 198,
   "metadata": {},
   "outputs": [],
   "source": [
    "# Filtrar los sábados\n",
    "df_weather['day_of_week'] = df_weather['start_ts'].dt.day_name()\n",
    "saturdays = df_weather[df_weather['day_of_week'] == 'Saturday']\n"
   ]
  },
  {
   "cell_type": "code",
   "execution_count": 199,
   "metadata": {},
   "outputs": [
    {
     "name": "stderr",
     "output_type": "stream",
     "text": [
      "can't invoke \"event\" command: application has been destroyed\n",
      "    while executing\n",
      "\"event generate $w <<ThemeChanged>>\"\n",
      "    (procedure \"ttk::ThemeChanged\" line 6)\n",
      "    invoked from within\n",
      "\"ttk::ThemeChanged\"\n"
     ]
    }
   ],
   "source": [
    "#Hacer Gráficos\n",
    "# Obtener las 10 principales empresas por número de viajes\n",
    "top_10_companies = df_companies.nlargest(10, 'trips_amount')\n",
    "\n",
    "# Gráfico de Empresas de Taxis y Número de Viajes\n",
    "plt.figure(figsize=(10, 6))\n",
    "plt.bar(top_10_companies['company_name'], top_10_companies['trips_amount'])\n",
    "plt.xlabel('Empresa de Taxis')\n",
    "plt.ylabel('Número de Viajes')\n",
    "plt.title('Top 10 Empresas de Taxis por Número de Viajes (15 y 16 de Noviembre de 2017)')\n",
    "plt.xticks(rotation=90)\n",
    "plt.show()"
   ]
  },
  {
   "cell_type": "markdown",
   "metadata": {},
   "source": [
    "<div class=\"alert alert-block alert-danger\">\n",
    "<b>Comentario del revisor</b> <a class=\"tocSkip\"></a>\n",
    "    \n",
    "Perfecto, buen trabajo con el despliegue del gráfico; sin embargo, el ideal sería limitar las salida a solo el top 10 o 20 para mejorar la estética del esquema .   </div>"
   ]
  },
  {
   "cell_type": "markdown",
   "metadata": {},
   "source": [
    "<div class=\"alert alert-block alert-info\">\n",
    "<b>Respuesta del estudiante</b> <a class=\"tocSkip\"></a>\n",
    "Se realizó la corrección señalada en el comentario, limitando la salida a solo 10 empresas para mejorar la estética.    \n",
    "</div>"
   ]
  },
  {
   "cell_type": "markdown",
   "metadata": {},
   "source": [
    "El gráfico de barras muestra la distribución del número de viajes realizados por diferentes empresas \n",
    "de taxis durante un periodo específico (15 y 16 de noviembre de 2017). En el eje Y se representa el número de viajes, \n",
    "mientras que en el eje X se listan las distintas empresas de taxis.\n",
    "\n",
    "A partir de este gráfico, podemos extraer las siguientes conclusiones:\n",
    "\n",
    "Desigualdad en la demanda: Existe una gran disparidad en el número de viajes realizados por cada empresa. Unas pocas empresas \n",
    "concentran la mayor parte de los viajes, mientras que otras tienen una demanda significativamente menor.\n",
    "\n",
    "Dominancia de algunas empresas: Las primeras empresas en el eje X, según el orden de las barras, son las que tienen una mayor \n",
    "participación en el mercado de taxis durante el periodo analizado. Estas empresas podrían considerarse como las principales o líderes en \n",
    "el sector.\n",
    "\n",
    "Nicho de mercado: La larga cola de empresas con un número bajo de viajes sugiere la existencia de un mercado bastante fragmentado, con \n",
    "muchas empresas pequeñas compitiendo por una porción más reducida del mercado.\n",
    "\n",
    "Factores que influyen: La diferencia en el número de viajes entre las empresas puede deberse a varios factores, como:\n",
    "\n",
    "Tamaño de la flota: Las empresas con flotas más grandes suelen tener un mayor número de viajes.\n",
    "Área de cobertura: Las empresas que operan en zonas con mayor demanda (centros urbanos, áreas turísticas) tienden a tener más viajes.\n",
    "Reputación y marketing: Las empresas con una mejor reputación y mayor inversión en marketing suelen atraer más clientes.\n",
    "Tarifas y promociones: Las empresas que ofrecen tarifas más competitivas o promociones especiales pueden tener un mayor número de viajes.\n",
    "Tecnología: Las empresas que utilizan tecnología avanzada para gestionar sus operaciones (apps, sistemas de pago) pueden ser más \n",
    "eficientes y atraer a más clientes."
   ]
  },
  {
   "cell_type": "code",
   "execution_count": 200,
   "metadata": {},
   "outputs": [
    {
     "name": "stderr",
     "output_type": "stream",
     "text": [
      "invalid command name \"140229732532992process_stream_events\"\n",
      "    while executing\n",
      "\"140229732532992process_stream_events\"\n",
      "    (\"after\" script)\n",
      "can't invoke \"event\" command: application has been destroyed\n",
      "    while executing\n",
      "\"event generate $w <<ThemeChanged>>\"\n",
      "    (procedure \"ttk::ThemeChanged\" line 6)\n",
      "    invoked from within\n",
      "\"ttk::ThemeChanged\"\n"
     ]
    }
   ],
   "source": [
    "# Gráfico de los 10 Barrios Principales por Número de Finalizaciones\n",
    "plt.figure(figsize=(10, 6))\n",
    "plt.bar(top_10_neighborhoods['dropoff_location_name'], top_10_neighborhoods['average_trips'])\n",
    "plt.xlabel('Barrio')\n",
    "plt.ylabel('Promedio de Viajes')\n",
    "plt.title('Top 10 Barrios por Promedio de Finalizaciones de Viajes (Noviembre de 2017)')\n",
    "plt.xticks(rotation=90)\n",
    "plt.show()"
   ]
  },
  {
   "cell_type": "markdown",
   "metadata": {},
   "source": [
    "El gráfico de barras nos muestra el promedio de viajes finalizados en los 10 barrios con mayor demanda durante el mes de \n",
    "noviembre de 2017. En el eje Y se representa el número promedio de viajes, mientras que en el eje X se listan los nombres de los barrios.\n",
    "\n",
    "A partir de este gráfico, podemos extraer las siguientes conclusiones:\n",
    "\n",
    "Desigualdad en la Demanda: Existe una clara diferencia en la demanda de servicios de transporte entre los diferentes barrios. \n",
    "Los primeros puestos concentran un número significativamente mayor de viajes en comparación con los últimos.\n",
    "\n",
    "Barrios con Mayor Demanda: Los barrios ubicados en las primeras posiciones del gráfico (Loop, North, Riverville) son los que presentan \n",
    "una mayor demanda de servicios de transporte. Esto podría indicar que son zonas con mayor densidad poblacional, mayor actividad comercial, \n",
    "o que son centros de atracción para actividades de ocio o trabajo.\n",
    "\n",
    "Potencial de Mercado: Los barrios con un menor número de viajes (como DePaul) podrían representar una oportunidad de crecimiento para las \n",
    "empresas de transporte. Al identificar las razones por las cuales la demanda es menor en estos barrios, se podrían implementar estrategias \n",
    "para aumentar el número de viajes.\n",
    "\n",
    "Factores que Influyen en la Demanda: La variación en la demanda entre los barrios puede estar influenciada por diversos factores, como:\n",
    "\n",
    "Densidad poblacional: Los barrios más poblados suelen tener una mayor demanda de transporte.\n",
    "Disponibilidad de transporte público: La presencia de estaciones de metro, autobuses o trenes puede afectar la demanda de servicios de \n",
    "transporte privado.\n",
    "Atractivos turísticos o comerciales: Los barrios con atracciones turísticas o centros comerciales suelen tener una mayor demanda, \n",
    "especialmente en ciertas horas del día.\n",
    "Características urbanísticas: La distribución de viviendas, oficinas y espacios públicos puede influir en los patrones de movilidad."
   ]
  },
  {
   "cell_type": "code",
   "execution_count": 201,
   "metadata": {},
   "outputs": [],
   "source": [
    "# Filtrar los días lluviosos y no lluviosos\n",
    "rainy_saturdays = saturdays[saturdays['weather_conditions'].str.contains('Bad')]\n",
    "non_rainy_saturdays = saturdays[saturdays['weather_conditions'].str.contains('Good')]\n"
   ]
  },
  {
   "cell_type": "code",
   "execution_count": 202,
   "metadata": {},
   "outputs": [],
   "source": [
    "# Duraciones de viajes en segundos\n",
    "rainy_durations = rainy_saturdays['duration_seconds']\n",
    "non_rainy_durations = non_rainy_saturdays['duration_seconds']"
   ]
  },
  {
   "cell_type": "code",
   "execution_count": 203,
   "metadata": {},
   "outputs": [],
   "source": [
    "# Prueba t de dos muestras\n",
    "t_stat, p_value = stats.ttest_ind(rainy_durations, non_rainy_durations, equal_var=False)"
   ]
  },
  {
   "cell_type": "code",
   "execution_count": 204,
   "metadata": {},
   "outputs": [
    {
     "name": "stdout",
     "output_type": "stream",
     "text": [
      "T-statistic: 7.186034288068629\n",
      "P-value: 6.738994326108734e-12\n"
     ]
    }
   ],
   "source": [
    "print(f'T-statistic: {t_stat}')\n",
    "print(f'P-value: {p_value}')"
   ]
  },
  {
   "cell_type": "code",
   "execution_count": 205,
   "metadata": {},
   "outputs": [
    {
     "name": "stdout",
     "output_type": "stream",
     "text": [
      "Conclusión del Gráfico 1:\n",
      "La empresa de taxis con mayor cantidad de viajes el 15 y 16 de noviembre de 2017 es 'Flash Cab', seguida de 'Taxi Affiliation Services'. Las empresas con menos viajes son las que tienen nombres menos reconocidos.\n"
     ]
    }
   ],
   "source": [
    "#Sacar Conclusiones Basadas en Cada Gráfico y Explicar los Resultados\n",
    "# Conclusiones basadas en los gráficos\n",
    "\n",
    "# Conclusión del gráfico de empresas de taxis y número de viajes\n",
    "print(\"Conclusión del Gráfico 1:\")\n",
    "print(\"La empresa de taxis con mayor cantidad de viajes el 15 y 16 de noviembre de 2017 es 'Flash Cab', seguida de 'Taxi Affiliation Services'. Las empresas con menos viajes son las que tienen nombres menos reconocidos.\")"
   ]
  },
  {
   "cell_type": "code",
   "execution_count": 206,
   "metadata": {},
   "outputs": [
    {
     "name": "stdout",
     "output_type": "stream",
     "text": [
      "Conclusión del Gráfico 2:\n",
      "El barrio con el mayor promedio de finalizaciones de viajes en noviembre de 2017 es 'Loop',seguido de 'Near North Side' y 'River North'. Estos barrios son conocidos por ser áreas comerciales y turísticas, lo que puede explicar el alto número de finalizaciones de viajes.\n"
     ]
    }
   ],
   "source": [
    "# Conclusión del gráfico de los 10 barrios principales por número de finalizaciones\n",
    "print(\"Conclusión del Gráfico 2:\")\n",
    "print(\"El barrio con el mayor promedio de finalizaciones de viajes en noviembre de 2017 es 'Loop',seguido de 'Near North Side' y 'River North'. Estos barrios son conocidos por ser áreas comerciales y turísticas, lo que puede explicar el alto número de finalizaciones de viajes.\")"
   ]
  },
  {
   "cell_type": "code",
   "execution_count": 207,
   "metadata": {},
   "outputs": [
    {
     "name": "stdout",
     "output_type": "stream",
     "text": [
      "Rechazamos la hipótesis nula. La duración promedio de los viajes cambia los sábados lluviosos.\n"
     ]
    }
   ],
   "source": [
    "#Interpretar los resultados\n",
    "alpha = 0.05\n",
    "if p_value < alpha:\n",
    "    print(\"Rechazamos la hipótesis nula. La duración promedio de los viajes cambia los sábados lluviosos.\")\n",
    "else:\n",
    "    print(\"No podemos rechazar la hipótesis nula. No hay suficiente evidencia para afirmar que la duración promedio de los viajes cambia los sábados lluviosos.\")\n"
   ]
  },
  {
   "cell_type": "markdown",
   "metadata": {},
   "source": [
    "Para probar estas hipótesis, utilizamos la prueba t de dos muestras independientes (también conocida como prueba t de Student). Este es un \n",
    "método estadístico utilizado para determinar si hay una diferencia significativa entre las medias de dos grupos independientes. Los criterios \n",
    "y razones para elegir esta prueba son:\n",
    "\n",
    "Naturaleza de los Datos: Los datos de la duración del viaje son continuos y aproximadamente distribuidos normalmente.\n",
    "Se comparan dos grupos independientes: viajes en sábados lluviosos y viajes en sábados no lluviosos.\n",
    "\n",
    "Prueba de Igualdad de Varianzas: Usamos la versión de la prueba t para varianzas desiguales (Welch's t-test), que es una variación de la \n",
    "prueba t estándar que no asume que las dos muestras tienen varianzas iguales. Esto es más robusto cuando las varianzas y los tamaños de \n",
    "las muestras son diferentes.\n",
    "\n",
    "Nivel de Significación (Alpha): Establecimos un nivel de significación α de 0.05. Esto significa que aceptaremos una probabilidad de 5% de rechazar la hipótesis nula \n",
    "cuando en realidad sea verdadera (error de tipo I).\n",
    "\n",
    "Cálculo del Estadístico t y P-Valor: Calculamos el estadístico t, que mide el tamaño de la diferencia relativa a la variabilidad de las \n",
    "muestras. También calculamos el p-valor, que nos indica la probabilidad de observar una diferencia tan extrema como la que se observa en \n",
    "los datos, bajo la suposición de que la hipótesis nula es verdadera."
   ]
  }
 ],
 "metadata": {
  "kernelspec": {
   "display_name": "Python 3",
   "language": "python",
   "name": "python3"
  },
  "language_info": {
   "codemirror_mode": {
    "name": "ipython",
    "version": 3
   },
   "file_extension": ".py",
   "mimetype": "text/x-python",
   "name": "python",
   "nbconvert_exporter": "python",
   "pygments_lexer": "ipython3",
   "version": "3.8.10"
  }
 },
 "nbformat": 4,
 "nbformat_minor": 2
}
